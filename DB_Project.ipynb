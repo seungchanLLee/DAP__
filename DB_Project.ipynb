{
  "nbformat": 4,
  "nbformat_minor": 0,
  "metadata": {
    "colab": {
      "name": "DB_Project.ipynb",
      "provenance": [],
      "collapsed_sections": [],
      "authorship_tag": "ABX9TyPfEFdAYWMHqv99Pp4R8rpH",
      "include_colab_link": true
    },
    "kernelspec": {
      "name": "python3",
      "display_name": "Python 3"
    },
    "language_info": {
      "name": "python"
    }
  },
  "cells": [
    {
      "cell_type": "markdown",
      "metadata": {
        "id": "view-in-github",
        "colab_type": "text"
      },
      "source": [
        "<a href=\"https://colab.research.google.com/github/seungchanLLee/DAP__/blob/main/DB_Project.ipynb\" target=\"_parent\"><img src=\"https://colab.research.google.com/assets/colab-badge.svg\" alt=\"Open In Colab\"/></a>"
      ]
    },
    {
      "cell_type": "code",
      "metadata": {
        "id": "ID1EF5wrUxG8"
      },
      "source": [
        "import pandas as pd"
      ],
      "execution_count": null,
      "outputs": []
    },
    {
      "cell_type": "code",
      "metadata": {
        "colab": {
          "base_uri": "https://localhost:8080/",
          "height": 206
        },
        "id": "TDowQ7PEYFWw",
        "outputId": "bdbc9703-e3a5-40f0-ce85-f23875e3c964"
      },
      "source": [
        "df_dow = pd.read_csv(\"https://raw.githubusercontent.com/seungchanLLee/DAP__/main/Dow%20Jones%20Industrial%20Average%20Historical%20Data.csv\")\n",
        "df_dow.head()"
      ],
      "execution_count": null,
      "outputs": [
        {
          "output_type": "execute_result",
          "data": {
            "text/html": [
              "<div>\n",
              "<style scoped>\n",
              "    .dataframe tbody tr th:only-of-type {\n",
              "        vertical-align: middle;\n",
              "    }\n",
              "\n",
              "    .dataframe tbody tr th {\n",
              "        vertical-align: top;\n",
              "    }\n",
              "\n",
              "    .dataframe thead th {\n",
              "        text-align: right;\n",
              "    }\n",
              "</style>\n",
              "<table border=\"1\" class=\"dataframe\">\n",
              "  <thead>\n",
              "    <tr style=\"text-align: right;\">\n",
              "      <th></th>\n",
              "      <th>Date</th>\n",
              "      <th>Price</th>\n",
              "      <th>Open</th>\n",
              "      <th>High</th>\n",
              "      <th>Low</th>\n",
              "      <th>Vol.</th>\n",
              "      <th>Change %</th>\n",
              "    </tr>\n",
              "  </thead>\n",
              "  <tbody>\n",
              "    <tr>\n",
              "      <th>0</th>\n",
              "      <td>Dec 31, 2019</td>\n",
              "      <td>28,538.44</td>\n",
              "      <td>28,414.64</td>\n",
              "      <td>28,547.35</td>\n",
              "      <td>28,376.49</td>\n",
              "      <td>193.34M</td>\n",
              "      <td>0.27%</td>\n",
              "    </tr>\n",
              "    <tr>\n",
              "      <th>1</th>\n",
              "      <td>Dec 30, 2019</td>\n",
              "      <td>28,462.14</td>\n",
              "      <td>28,654.76</td>\n",
              "      <td>28,664.69</td>\n",
              "      <td>28,428.98</td>\n",
              "      <td>185.07M</td>\n",
              "      <td>-0.64%</td>\n",
              "    </tr>\n",
              "    <tr>\n",
              "      <th>2</th>\n",
              "      <td>Dec 27, 2019</td>\n",
              "      <td>28,645.26</td>\n",
              "      <td>28,675.34</td>\n",
              "      <td>28,701.66</td>\n",
              "      <td>28,608.98</td>\n",
              "      <td>184.93M</td>\n",
              "      <td>0.08%</td>\n",
              "    </tr>\n",
              "    <tr>\n",
              "      <th>3</th>\n",
              "      <td>Dec 26, 2019</td>\n",
              "      <td>28,621.39</td>\n",
              "      <td>28,539.46</td>\n",
              "      <td>28,624.10</td>\n",
              "      <td>28,535.15</td>\n",
              "      <td>155.97M</td>\n",
              "      <td>0.37%</td>\n",
              "    </tr>\n",
              "    <tr>\n",
              "      <th>4</th>\n",
              "      <td>Dec 24, 2019</td>\n",
              "      <td>28,515.45</td>\n",
              "      <td>28,572.57</td>\n",
              "      <td>28,576.80</td>\n",
              "      <td>28,503.21</td>\n",
              "      <td>95.29M</td>\n",
              "      <td>-0.13%</td>\n",
              "    </tr>\n",
              "  </tbody>\n",
              "</table>\n",
              "</div>"
            ],
            "text/plain": [
              "           Date      Price       Open       High        Low     Vol. Change %\n",
              "0  Dec 31, 2019  28,538.44  28,414.64  28,547.35  28,376.49  193.34M    0.27%\n",
              "1  Dec 30, 2019  28,462.14  28,654.76  28,664.69  28,428.98  185.07M   -0.64%\n",
              "2  Dec 27, 2019  28,645.26  28,675.34  28,701.66  28,608.98  184.93M    0.08%\n",
              "3  Dec 26, 2019  28,621.39  28,539.46  28,624.10  28,535.15  155.97M    0.37%\n",
              "4  Dec 24, 2019  28,515.45  28,572.57  28,576.80  28,503.21   95.29M   -0.13%"
            ]
          },
          "metadata": {},
          "execution_count": 19
        }
      ]
    },
    {
      "cell_type": "code",
      "metadata": {
        "id": "J-lNkZbxkIqs",
        "colab": {
          "base_uri": "https://localhost:8080/",
          "height": 423
        },
        "outputId": "e0c6de0c-345e-43fb-f4ec-8c617695d7f5"
      },
      "source": [
        "test_data = pd.read_csv('https://raw.githubusercontent.com/seungchanLLee/DAP__/main/doge-usd-max.csv')\n",
        "test_data"
      ],
      "execution_count": 22,
      "outputs": [
        {
          "output_type": "execute_result",
          "data": {
            "text/html": [
              "<div>\n",
              "<style scoped>\n",
              "    .dataframe tbody tr th:only-of-type {\n",
              "        vertical-align: middle;\n",
              "    }\n",
              "\n",
              "    .dataframe tbody tr th {\n",
              "        vertical-align: top;\n",
              "    }\n",
              "\n",
              "    .dataframe thead th {\n",
              "        text-align: right;\n",
              "    }\n",
              "</style>\n",
              "<table border=\"1\" class=\"dataframe\">\n",
              "  <thead>\n",
              "    <tr style=\"text-align: right;\">\n",
              "      <th></th>\n",
              "      <th>snapped_at</th>\n",
              "      <th>price</th>\n",
              "      <th>market_cap</th>\n",
              "      <th>total_volume</th>\n",
              "    </tr>\n",
              "  </thead>\n",
              "  <tbody>\n",
              "    <tr>\n",
              "      <th>0</th>\n",
              "      <td>2013-12-15 00:00:00 UTC</td>\n",
              "      <td>0.000559</td>\n",
              "      <td>3.488670e+06</td>\n",
              "      <td>0.000000e+00</td>\n",
              "    </tr>\n",
              "    <tr>\n",
              "      <th>1</th>\n",
              "      <td>2013-12-17 00:00:00 UTC</td>\n",
              "      <td>0.000218</td>\n",
              "      <td>1.619159e+06</td>\n",
              "      <td>0.000000e+00</td>\n",
              "    </tr>\n",
              "    <tr>\n",
              "      <th>2</th>\n",
              "      <td>2013-12-18 00:00:00 UTC</td>\n",
              "      <td>0.000268</td>\n",
              "      <td>2.191987e+06</td>\n",
              "      <td>0.000000e+00</td>\n",
              "    </tr>\n",
              "    <tr>\n",
              "      <th>3</th>\n",
              "      <td>2013-12-19 00:00:00 UTC</td>\n",
              "      <td>0.000475</td>\n",
              "      <td>4.299422e+06</td>\n",
              "      <td>0.000000e+00</td>\n",
              "    </tr>\n",
              "    <tr>\n",
              "      <th>4</th>\n",
              "      <td>2013-12-20 00:00:00 UTC</td>\n",
              "      <td>0.000989</td>\n",
              "      <td>9.866232e+06</td>\n",
              "      <td>0.000000e+00</td>\n",
              "    </tr>\n",
              "    <tr>\n",
              "      <th>...</th>\n",
              "      <td>...</td>\n",
              "      <td>...</td>\n",
              "      <td>...</td>\n",
              "      <td>...</td>\n",
              "    </tr>\n",
              "    <tr>\n",
              "      <th>2699</th>\n",
              "      <td>2021-05-09 00:00:00 UTC</td>\n",
              "      <td>0.633615</td>\n",
              "      <td>8.206402e+10</td>\n",
              "      <td>2.941837e+10</td>\n",
              "    </tr>\n",
              "    <tr>\n",
              "      <th>2700</th>\n",
              "      <td>2021-05-10 00:00:00 UTC</td>\n",
              "      <td>0.573136</td>\n",
              "      <td>7.436812e+10</td>\n",
              "      <td>4.905329e+10</td>\n",
              "    </tr>\n",
              "    <tr>\n",
              "      <th>2701</th>\n",
              "      <td>2021-05-11 00:00:00 UTC</td>\n",
              "      <td>0.451129</td>\n",
              "      <td>5.844156e+10</td>\n",
              "      <td>1.720036e+10</td>\n",
              "    </tr>\n",
              "    <tr>\n",
              "      <th>2702</th>\n",
              "      <td>2021-05-12 00:00:00 UTC</td>\n",
              "      <td>0.496731</td>\n",
              "      <td>6.435597e+10</td>\n",
              "      <td>1.529008e+10</td>\n",
              "    </tr>\n",
              "    <tr>\n",
              "      <th>2703</th>\n",
              "      <td>2021-05-13 00:00:00 UTC</td>\n",
              "      <td>0.415192</td>\n",
              "      <td>5.379610e+10</td>\n",
              "      <td>1.074262e+10</td>\n",
              "    </tr>\n",
              "  </tbody>\n",
              "</table>\n",
              "<p>2704 rows × 4 columns</p>\n",
              "</div>"
            ],
            "text/plain": [
              "                   snapped_at     price    market_cap  total_volume\n",
              "0     2013-12-15 00:00:00 UTC  0.000559  3.488670e+06  0.000000e+00\n",
              "1     2013-12-17 00:00:00 UTC  0.000218  1.619159e+06  0.000000e+00\n",
              "2     2013-12-18 00:00:00 UTC  0.000268  2.191987e+06  0.000000e+00\n",
              "3     2013-12-19 00:00:00 UTC  0.000475  4.299422e+06  0.000000e+00\n",
              "4     2013-12-20 00:00:00 UTC  0.000989  9.866232e+06  0.000000e+00\n",
              "...                       ...       ...           ...           ...\n",
              "2699  2021-05-09 00:00:00 UTC  0.633615  8.206402e+10  2.941837e+10\n",
              "2700  2021-05-10 00:00:00 UTC  0.573136  7.436812e+10  4.905329e+10\n",
              "2701  2021-05-11 00:00:00 UTC  0.451129  5.844156e+10  1.720036e+10\n",
              "2702  2021-05-12 00:00:00 UTC  0.496731  6.435597e+10  1.529008e+10\n",
              "2703  2021-05-13 00:00:00 UTC  0.415192  5.379610e+10  1.074262e+10\n",
              "\n",
              "[2704 rows x 4 columns]"
            ]
          },
          "metadata": {},
          "execution_count": 22
        }
      ]
    },
    {
      "cell_type": "code",
      "metadata": {
        "colab": {
          "base_uri": "https://localhost:8080/",
          "height": 294
        },
        "id": "5bx_A8RxlV9N",
        "outputId": "82526456-c0cf-4f7b-e1c9-aa3e2d7305e7"
      },
      "source": [
        "test_data.plot.line()"
      ],
      "execution_count": 24,
      "outputs": [
        {
          "output_type": "execute_result",
          "data": {
            "text/plain": [
              "<matplotlib.axes._subplots.AxesSubplot at 0x7f06d755c2d0>"
            ]
          },
          "metadata": {},
          "execution_count": 24
        },
        {
          "output_type": "display_data",
          "data": {
            "image/png": "[encoded data removed]",
            "text/plain": [
              "<Figure size 432x288 with 1 Axes>"
            ]
          },
          "metadata": {
            "needs_background": "light"
          }
        }
      ]
    },
    {
      "cell_type": "code",
      "metadata": {
        "id": "4qrpBMPpliYT"
      },
      "source": [
        "import matplotlib.pyplot as plt"
      ],
      "execution_count": 29,
      "outputs": []
    },
    {
      "cell_type": "code",
      "metadata": {
        "id": "MtSFNpEtl3Ma"
      },
      "source": [
        "test_data_11 = test_data.drop(['market_cap','snapped_at' ,'total_volume'], axis=1)\n",
        "test_data_11\n",
        "\n",
        "test_data_22 = test_data_11[2600:2703]\n",
        "test_data_22.append(test_data_22,ignore_index = True)\n",
        "\n",
        "test_data_22.reset_index().rename(columns={\"index\":\"id\"})\n",
        "test_data_33 = test_data_22.rename_axis('id').reset_index()\n",
        "test_data_22.index.name='id'\n",
        "test_data_44 = test_data_22.reset_index()\n",
        "test_data_44\n",
        "test_data_22 = test_data_44"
      ],
      "execution_count": 30,
      "outputs": []
    },
    {
      "cell_type": "code",
      "metadata": {
        "colab": {
          "base_uri": "https://localhost:8080/",
          "height": 502
        },
        "id": "1xNWocM6llJb",
        "outputId": "3d7607a1-efdb-4286-c583-52742264ff8c"
      },
      "source": [
        "fig = plt.figure(figsize=(8,8))\n",
        "fig.set_facecolor('white')\n",
        " \n",
        "font_size = 15\n",
        "plt.scatter(test_data_22['id'],test_data_22['price'])\n",
        " \n",
        "plt.xlabel('id', fontsize=font_size)\n",
        "plt.ylabel('price',fontsize=font_size)\n",
        "plt.show()"
      ],
      "execution_count": 31,
      "outputs": [
        {
          "output_type": "display_data",
          "data": {
            "image/png": "[encoded data removed]",
            "text/plain": [
              "<Figure size 576x576 with 1 Axes>"
            ]
          },
          "metadata": {}
        }
      ]
    }
  ]
}