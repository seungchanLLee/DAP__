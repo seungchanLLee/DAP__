{
  "nbformat": 4,
  "nbformat_minor": 0,
  "metadata": {
    "colab": {
      "name": "Final_Project.ipynb",
      "provenance": [],
      "collapsed_sections": [],
      "authorship_tag": "ABX9TyMlTc4NPdHlEy1sNx3dlVGi",
      "include_colab_link": true
    },
    "kernelspec": {
      "name": "python3",
      "display_name": "Python 3"
    },
    "language_info": {
      "name": "python"
    }
  },
  "cells": [
    {
      "cell_type": "markdown",
      "metadata": {
        "id": "view-in-github",
        "colab_type": "text"
      },
      "source": [
        "<a href=\"https://colab.research.google.com/github/seungchanLLee/DAP__/blob/main/Final_Project.ipynb\" target=\"_parent\"><img src=\"https://colab.research.google.com/assets/colab-badge.svg\" alt=\"Open In Colab\"/></a>"
      ]
    },
    {
      "cell_type": "code",
      "execution_count": null,
      "metadata": {
        "id": "77urR1rA_OhP",
        "outputId": "e957a21a-8cbf-42a2-cba9-784626cc4d7a",
        "colab": {
          "base_uri": "https://localhost:8080/"
        }
      },
      "outputs": [
        {
          "output_type": "stream",
          "name": "stderr",
          "text": [
            "/usr/local/lib/python3.7/dist-packages/statsmodels/tools/_testing.py:19: FutureWarning: pandas.util.testing is deprecated. Use the functions in the public API at pandas.testing instead.\n",
            "  import pandas.util.testing as tm\n"
          ]
        }
      ],
      "source": [
        "# Libraries\n",
        "import pandas as pd\n",
        "import numpy as np\n",
        "import re\n",
        "import os\n",
        "import string\n",
        "from datetime import datetime\n",
        "import seaborn as sns\n",
        "import matplotlib as mpl\n",
        "import matplotlib.pyplot as plt\n",
        "from matplotlib.offsetbox import AnnotationBbox, OffsetImage\n",
        "from wordcloud import WordCloud, ImageColorGenerator\n",
        "from wordcloud import STOPWORDS as stopwords_wc\n",
        "from statsmodels.tsa.stattools import adfuller"
      ]
    },
    {
      "cell_type": "code",
      "source": [
        "#read in data\n",
        "\n",
        "#트윗들\n",
        "tweets = pd.read_csv(\"https://raw.githubusercontent.com/seungchanLLee/DAP__/main/TweetsElonMusk.csv\")\n",
        "tweets = tweets[[\"id\", \"date\", \"time\", \"username\", \n",
        "                 \"tweet\", \"mentions\", \"urls\", \"photos\", \"replies_count\", \n",
        "                 \"retweets_count\", \"likes_count\", \"hashtags\", \"link\"]]\n",
        "\n",
        "tweets[\"year\"] = tweets[\"date\"].apply(lambda x: x.split(\"-\")[0])\n",
        "\n",
        "#도지코인\n",
        "dogecoin = pd.read_csv(\"https://raw.githubusercontent.com/seungchanLLee/DAP__/main/DOGE-USD.csv\")\n"
      ],
      "metadata": {
        "id": "V0odhzJXACj0"
      },
      "execution_count": null,
      "outputs": []
    },
    {
      "cell_type": "markdown",
      "source": [
        "<img src=\"https://github.com/seungchanLLee/DAP__/blob/main/elon_smile.jpg\" height=\"300\" style=\"margin: 0 auto; width: 100%; max-width: 950px;\" frameborder=\"0\" scrolling=\"auto\" title=\"💰Dogecoin on RAPIDS and Elon Musk\"></img>\n",
        "\n"
      ],
      "metadata": {
        "id": "Sh6B50kfEFrr"
      }
    },
    {
      "cell_type": "code",
      "source": [
        "\n",
        "<img src=\"https://github.com/seungchanLLee/DAP__/blob/main/elon_smile.jpg\" height=\"300\" style=\"margin: 0 auto; width: 100%; max-width: 950px;\" frameborder=\"0\" scrolling=\"auto\" title=\"💰Dogecoin on RAPIDS and Elon Musk\"></img>"
      ],
      "metadata": {
        "colab": {
          "base_uri": "https://localhost:8080/",
          "height": 154
        },
        "id": "Pq_JqXMAB_fW",
        "outputId": "3fcd3ac4-371d-4f46-b481-938b7e34487f"
      },
      "execution_count": null,
      "outputs": [
        {
          "output_type": "error",
          "ename": "SyntaxError",
          "evalue": "ignored",
          "traceback": [
            "\u001b[0;36m  File \u001b[0;32m\"<ipython-input-3-07840411721d>\"\u001b[0;36m, line \u001b[0;32m1\u001b[0m\n\u001b[0;31m    <img src=\"https://github.com/seungchanLLee/DAP__/blob/main/elon_smile.jpg\" height=\"300\" style=\"margin: 0 auto; width: 100%; max-width: 950px;\" frameborder=\"0\" scrolling=\"auto\" title=\"💰Dogecoin on RAPIDS and Elon Musk\"></img>\u001b[0m\n\u001b[0m    ^\u001b[0m\n\u001b[0;31mSyntaxError\u001b[0m\u001b[0;31m:\u001b[0m invalid syntax\n"
          ]
        }
      ]
    }
  ]
}